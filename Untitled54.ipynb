{
  "nbformat": 4,
  "nbformat_minor": 0,
  "metadata": {
    "colab": {
      "provenance": []
    },
    "kernelspec": {
      "name": "python3",
      "display_name": "Python 3"
    },
    "language_info": {
      "name": "python"
    }
  },
  "cells": [
    {
      "cell_type": "code",
      "source": [
        "pip install newspaper3k"
      ],
      "metadata": {
        "colab": {
          "base_uri": "https://localhost:8080/"
        },
        "id": "QTUrJerrTUO_",
        "outputId": "75122ae1-aeb6-476a-e377-edce6b9a40a2"
      },
      "execution_count": 7,
      "outputs": [
        {
          "output_type": "stream",
          "name": "stdout",
          "text": [
            "Requirement already satisfied: newspaper3k in /usr/local/lib/python3.10/dist-packages (0.2.8)\n",
            "Requirement already satisfied: beautifulsoup4>=4.4.1 in /usr/local/lib/python3.10/dist-packages (from newspaper3k) (4.12.3)\n",
            "Requirement already satisfied: Pillow>=3.3.0 in /usr/local/lib/python3.10/dist-packages (from newspaper3k) (9.4.0)\n",
            "Requirement already satisfied: PyYAML>=3.11 in /usr/local/lib/python3.10/dist-packages (from newspaper3k) (6.0.1)\n",
            "Requirement already satisfied: cssselect>=0.9.2 in /usr/local/lib/python3.10/dist-packages (from newspaper3k) (1.2.0)\n",
            "Requirement already satisfied: lxml>=3.6.0 in /usr/local/lib/python3.10/dist-packages (from newspaper3k) (4.9.4)\n",
            "Requirement already satisfied: nltk>=3.2.1 in /usr/local/lib/python3.10/dist-packages (from newspaper3k) (3.8.1)\n",
            "Requirement already satisfied: requests>=2.10.0 in /usr/local/lib/python3.10/dist-packages (from newspaper3k) (2.31.0)\n",
            "Requirement already satisfied: feedparser>=5.2.1 in /usr/local/lib/python3.10/dist-packages (from newspaper3k) (6.0.11)\n",
            "Requirement already satisfied: tldextract>=2.0.1 in /usr/local/lib/python3.10/dist-packages (from newspaper3k) (5.1.1)\n",
            "Requirement already satisfied: feedfinder2>=0.0.4 in /usr/local/lib/python3.10/dist-packages (from newspaper3k) (0.0.4)\n",
            "Requirement already satisfied: jieba3k>=0.35.1 in /usr/local/lib/python3.10/dist-packages (from newspaper3k) (0.35.1)\n",
            "Requirement already satisfied: python-dateutil>=2.5.3 in /usr/local/lib/python3.10/dist-packages (from newspaper3k) (2.8.2)\n",
            "Requirement already satisfied: tinysegmenter==0.3 in /usr/local/lib/python3.10/dist-packages (from newspaper3k) (0.3)\n",
            "Requirement already satisfied: soupsieve>1.2 in /usr/local/lib/python3.10/dist-packages (from beautifulsoup4>=4.4.1->newspaper3k) (2.5)\n",
            "Requirement already satisfied: six in /usr/local/lib/python3.10/dist-packages (from feedfinder2>=0.0.4->newspaper3k) (1.16.0)\n",
            "Requirement already satisfied: sgmllib3k in /usr/local/lib/python3.10/dist-packages (from feedparser>=5.2.1->newspaper3k) (1.0.0)\n",
            "Requirement already satisfied: click in /usr/local/lib/python3.10/dist-packages (from nltk>=3.2.1->newspaper3k) (8.1.7)\n",
            "Requirement already satisfied: joblib in /usr/local/lib/python3.10/dist-packages (from nltk>=3.2.1->newspaper3k) (1.3.2)\n",
            "Requirement already satisfied: regex>=2021.8.3 in /usr/local/lib/python3.10/dist-packages (from nltk>=3.2.1->newspaper3k) (2023.12.25)\n",
            "Requirement already satisfied: tqdm in /usr/local/lib/python3.10/dist-packages (from nltk>=3.2.1->newspaper3k) (4.66.2)\n",
            "Requirement already satisfied: charset-normalizer<4,>=2 in /usr/local/lib/python3.10/dist-packages (from requests>=2.10.0->newspaper3k) (3.3.2)\n",
            "Requirement already satisfied: idna<4,>=2.5 in /usr/local/lib/python3.10/dist-packages (from requests>=2.10.0->newspaper3k) (3.6)\n",
            "Requirement already satisfied: urllib3<3,>=1.21.1 in /usr/local/lib/python3.10/dist-packages (from requests>=2.10.0->newspaper3k) (2.0.7)\n",
            "Requirement already satisfied: certifi>=2017.4.17 in /usr/local/lib/python3.10/dist-packages (from requests>=2.10.0->newspaper3k) (2024.2.2)\n",
            "Requirement already satisfied: requests-file>=1.4 in /usr/local/lib/python3.10/dist-packages (from tldextract>=2.0.1->newspaper3k) (2.0.0)\n",
            "Requirement already satisfied: filelock>=3.0.8 in /usr/local/lib/python3.10/dist-packages (from tldextract>=2.0.1->newspaper3k) (3.13.1)\n"
          ]
        }
      ]
    },
    {
      "cell_type": "code",
      "source": [
        "# Import necessary libraries\n",
        "import nltk\n",
        "from textblob import TextBlob\n",
        "from newspaper import Article"
      ],
      "metadata": {
        "id": "2s2L1QmkSRZN"
      },
      "execution_count": 8,
      "outputs": []
    },
    {
      "cell_type": "code",
      "source": [
        "# Download required NLTK data\n",
        "nltk.download('punkt')"
      ],
      "metadata": {
        "colab": {
          "base_uri": "https://localhost:8080/"
        },
        "id": "TYJcf4CrTKZ0",
        "outputId": "f86dfcea-06f6-4b0c-9977-fd98b933fa97"
      },
      "execution_count": 9,
      "outputs": [
        {
          "output_type": "stream",
          "name": "stderr",
          "text": [
            "[nltk_data] Downloading package punkt to /root/nltk_data...\n",
            "[nltk_data]   Package punkt is already up-to-date!\n"
          ]
        },
        {
          "output_type": "execute_result",
          "data": {
            "text/plain": [
              "True"
            ]
          },
          "metadata": {},
          "execution_count": 9
        }
      ]
    },
    {
      "cell_type": "code",
      "source": [
        "url =  \"https://www.cnbc.com/2018/04/03/cbs-submits-below-market-value-bid-for-viacom-sources.html\""
      ],
      "metadata": {
        "id": "Lcjktcq6TOov"
      },
      "execution_count": 15,
      "outputs": []
    },
    {
      "cell_type": "code",
      "source": [
        "# Initialize an Article object with the specified URL\n",
        "article = Article(url)\n",
        "\n",
        "# Download and parse the article's HTML\n",
        "article.download()\n",
        "article.parse()\n",
        "\n",
        "# Use natural language processing to extract useful information from the article\n",
        "article.nlp()"
      ],
      "metadata": {
        "id": "YoWULWpmUOWl"
      },
      "execution_count": 16,
      "outputs": []
    },
    {
      "cell_type": "code",
      "source": [],
      "metadata": {
        "id": "rd0yjk3sZsh_"
      },
      "execution_count": null,
      "outputs": []
    },
    {
      "cell_type": "code",
      "source": [
        "# Print the article's title, author(s), publication date and summary\n",
        "print(f'Title: {article.title}')\n",
        "print('\\n')\n",
        "print(f'Authors: {article.authors}')\n",
        "print('\\n')\n",
        "print(f'Publication Date: {article.publish_date}')\n",
        "print('\\n')\n",
        "print(f'Summary: {article.summary}')\n",
        "\n",
        "# Analyze the sentiment of the article using TextBlob\n",
        "analysis = TextBlob(article.text)\n",
        "print('\\n')\n",
        "\n",
        "# Print the polarity (i.e. sentiment score) of the article\n",
        "print(analysis.polarity)\n",
        "\n",
        "# Print whether the sentiment of the article is positive, negative, or neutral\n",
        "print(f'Sentiment: {\"Positive\" if analysis.polarity > 0 else \"Negative\" if analysis.polarity < 0 else \"Neutral\"}')"
      ],
      "metadata": {
        "colab": {
          "base_uri": "https://localhost:8080/"
        },
        "id": "kmeLRdTbVJ2y",
        "outputId": "d2bd70a1-fffa-4932-9b20-336c38b7e750"
      },
      "execution_count": 17,
      "outputs": [
        {
          "output_type": "stream",
          "name": "stdout",
          "text": [
            "Title: CBS submits below market value bid for Viacom: Sources\n",
            "\n",
            "\n",
            "Authors: ['David Faber John Melloy', 'David Faber', 'John Melloy']\n",
            "\n",
            "\n",
            "Publication Date: 2018-04-03 00:00:00\n",
            "\n",
            "\n",
            "Summary: CBS has submitted a bid for Viacom that is below market value, sources familiar with the situation said.\n",
            "The CBS special committee wants CBS CEO Les Moonves and Joe Ianniello, the chief operating officer of CBS, to lead the company, the sources said.\n",
            "Viacom 's class B shares closed Tuesday down 3.7 percent to $29.42, giving the company a market value of $12.18 billion.\n",
            "CBS shares ended Tuesday up 4.2 percent to $52.86.\n",
            "Whether a deal between the two occurs doesn't necessarily hinge on price, but rather the composition of the management team, the sources said.\n",
            "\n",
            "\n",
            "0.030731922398589066\n",
            "Sentiment: Positive\n"
          ]
        }
      ]
    },
    {
      "cell_type": "markdown",
      "source": [
        "In this project, I have built a financial news article summarizer in Python.\n",
        "The goal of this project is to extract useful information from news articles and provide a summary of their contents, as well as analyze the sentiment of the article.\n",
        "\n",
        "To achieve this, I have used several technologies and libraries, including the newspaper library for article extraction and natural language processing, the TextBlob library for sentiment analysis, and the nltk library for additional natural language processing functionality.\n",
        "\n",
        "\n",
        "\n",
        "\n",
        "\n",
        "\n",
        "\n",
        "\n",
        "\n",
        "\n",
        "\n",
        "\n",
        "\n",
        " Financial News Article Summarizer\n",
        " A Python-based Solution for Extracting Insights and Analyzing Sentiment"
      ],
      "metadata": {
        "id": "e32ahbYOcR5h"
      }
    }
  ]
}